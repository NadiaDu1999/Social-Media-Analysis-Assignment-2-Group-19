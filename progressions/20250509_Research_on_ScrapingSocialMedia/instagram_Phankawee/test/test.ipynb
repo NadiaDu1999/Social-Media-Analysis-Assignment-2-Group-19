{
 "cells": [
  {
   "cell_type": "code",
   "execution_count": 1,
   "id": "6db3af72",
   "metadata": {},
   "outputs": [],
   "source": [
    "import pandas\n",
    "import requests\n",
    "import json"
   ]
  },
  {
   "cell_type": "code",
   "execution_count": 2,
   "id": "9e4dd466",
   "metadata": {},
   "outputs": [],
   "source": [
    "def page_token():\n",
    "    the_url = 'https://graph.facebook.com/me/accounts'\n",
    "    access_token = 'EAAJjSt25w98BO5CBDtO39xfUGwxOBXK45JsM2WFhTi288r9xo2SNUZCcFqcpxJDVWv4mIZBF7TvSGLgc4P7nBd7bsJ5QezSC5q7FuNugBnOAHwPiZAoBmpN0GGtgMw4HfFKxoR6CZAt1fQr5CQWA9pbNNyZCsOlw2XxRKhswhTnUUX59TEk2sdIrmC15Qo48D9cTA'\n",
    "    response = requests.get(the_url,\n",
    "                            headers={\n",
    "                                'Authorization': 'Bearer ' + access_token,\n",
    "                                'Content-Type': 'application/json'\n",
    "                            })\n",
    "    response_data = json.loads(response.text)\n",
    "    return response_data"
   ]
  },
  {
   "cell_type": "code",
   "execution_count": 3,
   "id": "f065228f",
   "metadata": {},
   "outputs": [
    {
     "name": "stdout",
     "output_type": "stream",
     "text": [
      "{'data': [{'access_token': 'EAAJjSt25w98BO7aQwC0OjpWZC1w4OlZAi3xWhbGQDF5JxKuDlWpFASgOhlyiVNLYVw0TXv4tiIedJP2p4BHC23yBc2dcU8rcBJXZATwQZAftH3XhBpk6I47yw55TCTv8nfQjF18zpEaZA0ZCpiYekK4OYbkmYWSQCHrz72BIDe5jiShyRGGcxWZBjKed1ZCgjoeA3ZBJZBJZC8q25MgI7mI', 'category': 'Film', 'category_list': [{'id': '1105', 'name': 'Film'}], 'name': 'Good Friends & Film', 'id': '1778822842176383', 'tasks': ['MODERATE', 'MESSAGING', 'ANALYZE', 'ADVERTISE', 'CREATE_CONTENT', 'MANAGE']}], 'paging': {'cursors': {'before': 'QVFIUnFIYWQzNHR6aEhWZA2lKTHRuUXEyVGdvcGlHb24xczA2TlpFLUpOUzZAHMGgxMGloNGFlUGQ1QzIxZAjlfeDBxTkQ3QmNxT0lMa1Q0SmtsTVVQbFhocG5B', 'after': 'QVFIUnFIYWQzNHR6aEhWZA2lKTHRuUXEyVGdvcGlHb24xczA2TlpFLUpOUzZAHMGgxMGloNGFlUGQ1QzIxZAjlfeDBxTkQ3QmNxT0lMa1Q0SmtsTVVQbFhocG5B'}}}\n"
     ]
    }
   ],
   "source": [
    "print(page_token())"
   ]
  },
  {
   "cell_type": "code",
   "execution_count": 4,
   "id": "f1f00fad",
   "metadata": {},
   "outputs": [],
   "source": [
    "def page_token():\n",
    "    the_url = 'https://graph.facebook.com/me/accounts'\n",
    "    access_token = 'EAAJjSt25w98BO5CBDtO39xfUGwxOBXK45JsM2WFhTi288r9xo2SNUZCcFqcpxJDVWv4mIZBF7TvSGLgc4P7nBd7bsJ5QezSC5q7FuNugBnOAHwPiZAoBmpN0GGtgMw4HfFKxoR6CZAt1fQr5CQWA9pbNNyZCsOlw2XxRKhswhTnUUX59TEk2sdIrmC15Qo48D9cTA'\n",
    "    response = requests.get(the_url,\n",
    "                            headers={\n",
    "                                'Authorization': 'Bearer ' + access_token,\n",
    "                                'Content-Type': 'application/json'\n",
    "                            })\n",
    "    response_data = json.loads(response.text)\n",
    "    for i in response_data['data']:\n",
    "        data = i['access_token']\n",
    "    return data"
   ]
  },
  {
   "cell_type": "code",
   "execution_count": 5,
   "id": "08a527c5",
   "metadata": {},
   "outputs": [
    {
     "name": "stdout",
     "output_type": "stream",
     "text": [
      "EAAJjSt25w98BO7h8GA5uSedLZBAFyBNjy5SQL1YoMKorXAEGBy93bvrdYzFxixT1QkKKMfdK3YnxzZCLILrz0ggCWSOvS34dgtgJZA59ZC6WA2BtP4ChsVYfj6CEYBWUixqbZAIctU2OmqUJjhr3KaW22UZA8DQ2aFRVVNNLTuUZBTBbZCLHHX1KGxPzfUjNtcBJphCh4S8RYV1bz4mP\n"
     ]
    }
   ],
   "source": [
    "print(page_token())"
   ]
  },
  {
   "cell_type": "markdown",
   "id": "9a680811",
   "metadata": {},
   "source": [
    "## Total Reactions"
   ]
  },
  {
   "cell_type": "code",
   "execution_count": 14,
   "id": "dd0e71ee",
   "metadata": {},
   "outputs": [],
   "source": [
    "total_reaction = []\n",
    "\n",
    "id = '1778822842176383'\n",
    "def total_reactions():\n",
    "    url = 'https://graph.facebook.com/' + id + '/insights?metric=' + 'page_actions_post_reactions_total' + '&since=2022-05-01&until=2022-07-01'\n",
    "    data = requests.get(url,\n",
    "                            headers={\n",
    "                                'Authorization': 'Bearer ' + page_token(),\n",
    "                                'Content-Type': 'application/json'\n",
    "                            })\n",
    "    tot_reaction = json.loads(data.text)\n",
    "    total_reaction.append(tot_reaction)"
   ]
  },
  {
   "cell_type": "code",
   "execution_count": 15,
   "id": "3ce9e1da",
   "metadata": {},
   "outputs": [
    {
     "name": "stdout",
     "output_type": "stream",
     "text": [
      "None\n"
     ]
    }
   ],
   "source": [
    "print(total_reactions())"
   ]
  },
  {
   "cell_type": "code",
   "execution_count": 24,
   "id": "e99c1c74",
   "metadata": {},
   "outputs": [
    {
     "data": {
      "text/plain": [
       "[{'data': [{'name': 'page_actions_post_reactions_total',\n",
       "    'period': 'lifetime',\n",
       "    'values': [{'value': {}}],\n",
       "    'title': None,\n",
       "    'description': 'The daily total post reactions of a Page by type.',\n",
       "    'id': '1778822842176383/insights/page_actions_post_reactions_total/lifetime'},\n",
       "   {'name': 'page_actions_post_reactions_total',\n",
       "    'period': 'day',\n",
       "    'values': [{'value': {}, 'end_time': '2022-05-02T07:00:00+0000'},\n",
       "     {'value': {}, 'end_time': '2022-05-03T07:00:00+0000'},\n",
       "     {'value': {}, 'end_time': '2022-05-04T07:00:00+0000'},\n",
       "     {'value': {}, 'end_time': '2022-05-05T07:00:00+0000'},\n",
       "     {'value': {}, 'end_time': '2022-05-06T07:00:00+0000'},\n",
       "     {'value': {}, 'end_time': '2022-05-07T07:00:00+0000'},\n",
       "     {'value': {}, 'end_time': '2022-05-08T07:00:00+0000'},\n",
       "     {'value': {}, 'end_time': '2022-05-09T07:00:00+0000'},\n",
       "     {'value': {}, 'end_time': '2022-05-10T07:00:00+0000'},\n",
       "     {'value': {}, 'end_time': '2022-05-11T07:00:00+0000'},\n",
       "     {'value': {}, 'end_time': '2022-05-12T07:00:00+0000'},\n",
       "     {'value': {}, 'end_time': '2022-05-13T07:00:00+0000'},\n",
       "     {'value': {}, 'end_time': '2022-05-14T07:00:00+0000'},\n",
       "     {'value': {}, 'end_time': '2022-05-15T07:00:00+0000'},\n",
       "     {'value': {}, 'end_time': '2022-05-16T07:00:00+0000'},\n",
       "     {'value': {}, 'end_time': '2022-05-17T07:00:00+0000'},\n",
       "     {'value': {}, 'end_time': '2022-05-18T07:00:00+0000'},\n",
       "     {'value': {}, 'end_time': '2022-05-19T07:00:00+0000'},\n",
       "     {'value': {}, 'end_time': '2022-05-20T07:00:00+0000'},\n",
       "     {'value': {}, 'end_time': '2022-05-21T07:00:00+0000'},\n",
       "     {'value': {}, 'end_time': '2022-05-22T07:00:00+0000'},\n",
       "     {'value': {}, 'end_time': '2022-05-23T07:00:00+0000'},\n",
       "     {'value': {}, 'end_time': '2022-05-24T07:00:00+0000'},\n",
       "     {'value': {}, 'end_time': '2022-05-25T07:00:00+0000'},\n",
       "     {'value': {}, 'end_time': '2022-05-26T07:00:00+0000'},\n",
       "     {'value': {}, 'end_time': '2022-05-27T07:00:00+0000'},\n",
       "     {'value': {}, 'end_time': '2022-05-28T07:00:00+0000'},\n",
       "     {'value': {}, 'end_time': '2022-05-29T07:00:00+0000'},\n",
       "     {'value': {}, 'end_time': '2022-05-30T07:00:00+0000'},\n",
       "     {'value': {}, 'end_time': '2022-05-31T07:00:00+0000'},\n",
       "     {'value': {}, 'end_time': '2022-06-01T07:00:00+0000'},\n",
       "     {'value': {}, 'end_time': '2022-06-02T07:00:00+0000'},\n",
       "     {'value': {}, 'end_time': '2022-06-03T07:00:00+0000'},\n",
       "     {'value': {}, 'end_time': '2022-06-04T07:00:00+0000'},\n",
       "     {'value': {}, 'end_time': '2022-06-05T07:00:00+0000'},\n",
       "     {'value': {}, 'end_time': '2022-06-06T07:00:00+0000'},\n",
       "     {'value': {}, 'end_time': '2022-06-07T07:00:00+0000'},\n",
       "     {'value': {}, 'end_time': '2022-06-08T07:00:00+0000'},\n",
       "     {'value': {}, 'end_time': '2022-06-09T07:00:00+0000'},\n",
       "     {'value': {}, 'end_time': '2022-06-10T07:00:00+0000'},\n",
       "     {'value': {}, 'end_time': '2022-06-11T07:00:00+0000'},\n",
       "     {'value': {}, 'end_time': '2022-06-12T07:00:00+0000'},\n",
       "     {'value': {}, 'end_time': '2022-06-13T07:00:00+0000'},\n",
       "     {'value': {}, 'end_time': '2022-06-14T07:00:00+0000'},\n",
       "     {'value': {}, 'end_time': '2022-06-15T07:00:00+0000'},\n",
       "     {'value': {}, 'end_time': '2022-06-16T07:00:00+0000'},\n",
       "     {'value': {}, 'end_time': '2022-06-17T07:00:00+0000'},\n",
       "     {'value': {}, 'end_time': '2022-06-18T07:00:00+0000'},\n",
       "     {'value': {}, 'end_time': '2022-06-19T07:00:00+0000'},\n",
       "     {'value': {}, 'end_time': '2022-06-20T07:00:00+0000'},\n",
       "     {'value': {}, 'end_time': '2022-06-21T07:00:00+0000'},\n",
       "     {'value': {}, 'end_time': '2022-06-22T07:00:00+0000'},\n",
       "     {'value': {}, 'end_time': '2022-06-23T07:00:00+0000'},\n",
       "     {'value': {}, 'end_time': '2022-06-24T07:00:00+0000'},\n",
       "     {'value': {}, 'end_time': '2022-06-25T07:00:00+0000'},\n",
       "     {'value': {}, 'end_time': '2022-06-26T07:00:00+0000'},\n",
       "     {'value': {}, 'end_time': '2022-06-27T07:00:00+0000'},\n",
       "     {'value': {}, 'end_time': '2022-06-28T07:00:00+0000'},\n",
       "     {'value': {}, 'end_time': '2022-06-29T07:00:00+0000'},\n",
       "     {'value': {}, 'end_time': '2022-06-30T07:00:00+0000'},\n",
       "     {'value': {}, 'end_time': '2022-07-01T07:00:00+0000'}],\n",
       "    'title': 'Daily: total post reactions of a page.',\n",
       "    'description': 'Daily: total post reactions of a page.',\n",
       "    'id': '1778822842176383/insights/page_actions_post_reactions_total/day'},\n",
       "   {'name': 'page_actions_post_reactions_total',\n",
       "    'period': 'week',\n",
       "    'values': [{'value': {}, 'end_time': '2022-05-02T07:00:00+0000'},\n",
       "     {'value': {}, 'end_time': '2022-05-03T07:00:00+0000'},\n",
       "     {'value': {}, 'end_time': '2022-05-04T07:00:00+0000'},\n",
       "     {'value': {}, 'end_time': '2022-05-05T07:00:00+0000'},\n",
       "     {'value': {}, 'end_time': '2022-05-06T07:00:00+0000'},\n",
       "     {'value': {}, 'end_time': '2022-05-07T07:00:00+0000'},\n",
       "     {'value': {}, 'end_time': '2022-05-08T07:00:00+0000'},\n",
       "     {'value': {}, 'end_time': '2022-05-09T07:00:00+0000'},\n",
       "     {'value': {}, 'end_time': '2022-05-10T07:00:00+0000'},\n",
       "     {'value': {}, 'end_time': '2022-05-11T07:00:00+0000'},\n",
       "     {'value': {}, 'end_time': '2022-05-12T07:00:00+0000'},\n",
       "     {'value': {}, 'end_time': '2022-05-13T07:00:00+0000'},\n",
       "     {'value': {}, 'end_time': '2022-05-14T07:00:00+0000'},\n",
       "     {'value': {}, 'end_time': '2022-05-15T07:00:00+0000'},\n",
       "     {'value': {}, 'end_time': '2022-05-16T07:00:00+0000'},\n",
       "     {'value': {}, 'end_time': '2022-05-17T07:00:00+0000'},\n",
       "     {'value': {}, 'end_time': '2022-05-18T07:00:00+0000'},\n",
       "     {'value': {}, 'end_time': '2022-05-19T07:00:00+0000'},\n",
       "     {'value': {}, 'end_time': '2022-05-20T07:00:00+0000'},\n",
       "     {'value': {}, 'end_time': '2022-05-21T07:00:00+0000'},\n",
       "     {'value': {}, 'end_time': '2022-05-22T07:00:00+0000'},\n",
       "     {'value': {}, 'end_time': '2022-05-23T07:00:00+0000'},\n",
       "     {'value': {}, 'end_time': '2022-05-24T07:00:00+0000'},\n",
       "     {'value': {}, 'end_time': '2022-05-25T07:00:00+0000'},\n",
       "     {'value': {}, 'end_time': '2022-05-26T07:00:00+0000'},\n",
       "     {'value': {}, 'end_time': '2022-05-27T07:00:00+0000'},\n",
       "     {'value': {}, 'end_time': '2022-05-28T07:00:00+0000'},\n",
       "     {'value': {}, 'end_time': '2022-05-29T07:00:00+0000'},\n",
       "     {'value': {}, 'end_time': '2022-05-30T07:00:00+0000'},\n",
       "     {'value': {}, 'end_time': '2022-05-31T07:00:00+0000'},\n",
       "     {'value': {}, 'end_time': '2022-06-01T07:00:00+0000'},\n",
       "     {'value': {}, 'end_time': '2022-06-02T07:00:00+0000'},\n",
       "     {'value': {}, 'end_time': '2022-06-03T07:00:00+0000'},\n",
       "     {'value': {}, 'end_time': '2022-06-04T07:00:00+0000'},\n",
       "     {'value': {}, 'end_time': '2022-06-05T07:00:00+0000'},\n",
       "     {'value': {}, 'end_time': '2022-06-06T07:00:00+0000'},\n",
       "     {'value': {}, 'end_time': '2022-06-07T07:00:00+0000'},\n",
       "     {'value': {}, 'end_time': '2022-06-08T07:00:00+0000'},\n",
       "     {'value': {}, 'end_time': '2022-06-09T07:00:00+0000'},\n",
       "     {'value': {}, 'end_time': '2022-06-10T07:00:00+0000'},\n",
       "     {'value': {}, 'end_time': '2022-06-11T07:00:00+0000'},\n",
       "     {'value': {}, 'end_time': '2022-06-12T07:00:00+0000'},\n",
       "     {'value': {}, 'end_time': '2022-06-13T07:00:00+0000'},\n",
       "     {'value': {}, 'end_time': '2022-06-14T07:00:00+0000'},\n",
       "     {'value': {}, 'end_time': '2022-06-15T07:00:00+0000'},\n",
       "     {'value': {}, 'end_time': '2022-06-16T07:00:00+0000'},\n",
       "     {'value': {}, 'end_time': '2022-06-17T07:00:00+0000'},\n",
       "     {'value': {}, 'end_time': '2022-06-18T07:00:00+0000'},\n",
       "     {'value': {}, 'end_time': '2022-06-19T07:00:00+0000'},\n",
       "     {'value': {}, 'end_time': '2022-06-20T07:00:00+0000'},\n",
       "     {'value': {}, 'end_time': '2022-06-21T07:00:00+0000'},\n",
       "     {'value': {}, 'end_time': '2022-06-22T07:00:00+0000'},\n",
       "     {'value': {}, 'end_time': '2022-06-23T07:00:00+0000'},\n",
       "     {'value': {}, 'end_time': '2022-06-24T07:00:00+0000'},\n",
       "     {'value': {}, 'end_time': '2022-06-25T07:00:00+0000'},\n",
       "     {'value': {}, 'end_time': '2022-06-26T07:00:00+0000'},\n",
       "     {'value': {}, 'end_time': '2022-06-27T07:00:00+0000'},\n",
       "     {'value': {}, 'end_time': '2022-06-28T07:00:00+0000'},\n",
       "     {'value': {}, 'end_time': '2022-06-29T07:00:00+0000'},\n",
       "     {'value': {}, 'end_time': '2022-06-30T07:00:00+0000'},\n",
       "     {'value': {}, 'end_time': '2022-07-01T07:00:00+0000'}],\n",
       "    'title': None,\n",
       "    'description': 'The daily total post reactions of a Page by type.',\n",
       "    'id': '1778822842176383/insights/page_actions_post_reactions_total/week'},\n",
       "   {'name': 'page_actions_post_reactions_total',\n",
       "    'period': 'days_28',\n",
       "    'values': [{'value': {}, 'end_time': '2022-05-02T07:00:00+0000'},\n",
       "     {'value': {}, 'end_time': '2022-05-03T07:00:00+0000'},\n",
       "     {'value': {}, 'end_time': '2022-05-04T07:00:00+0000'},\n",
       "     {'value': {}, 'end_time': '2022-05-05T07:00:00+0000'},\n",
       "     {'value': {}, 'end_time': '2022-05-06T07:00:00+0000'},\n",
       "     {'value': {}, 'end_time': '2022-05-07T07:00:00+0000'},\n",
       "     {'value': {}, 'end_time': '2022-05-08T07:00:00+0000'},\n",
       "     {'value': {}, 'end_time': '2022-05-09T07:00:00+0000'},\n",
       "     {'value': {}, 'end_time': '2022-05-10T07:00:00+0000'},\n",
       "     {'value': {}, 'end_time': '2022-05-11T07:00:00+0000'},\n",
       "     {'value': {}, 'end_time': '2022-05-12T07:00:00+0000'},\n",
       "     {'value': {}, 'end_time': '2022-05-13T07:00:00+0000'},\n",
       "     {'value': {}, 'end_time': '2022-05-14T07:00:00+0000'},\n",
       "     {'value': {}, 'end_time': '2022-05-15T07:00:00+0000'},\n",
       "     {'value': {}, 'end_time': '2022-05-16T07:00:00+0000'},\n",
       "     {'value': {}, 'end_time': '2022-05-17T07:00:00+0000'},\n",
       "     {'value': {}, 'end_time': '2022-05-18T07:00:00+0000'},\n",
       "     {'value': {}, 'end_time': '2022-05-19T07:00:00+0000'},\n",
       "     {'value': {}, 'end_time': '2022-05-20T07:00:00+0000'},\n",
       "     {'value': {}, 'end_time': '2022-05-21T07:00:00+0000'},\n",
       "     {'value': {}, 'end_time': '2022-05-22T07:00:00+0000'},\n",
       "     {'value': {}, 'end_time': '2022-05-23T07:00:00+0000'},\n",
       "     {'value': {}, 'end_time': '2022-05-24T07:00:00+0000'},\n",
       "     {'value': {}, 'end_time': '2022-05-25T07:00:00+0000'},\n",
       "     {'value': {}, 'end_time': '2022-05-26T07:00:00+0000'},\n",
       "     {'value': {}, 'end_time': '2022-05-27T07:00:00+0000'},\n",
       "     {'value': {}, 'end_time': '2022-05-28T07:00:00+0000'},\n",
       "     {'value': {}, 'end_time': '2022-05-29T07:00:00+0000'},\n",
       "     {'value': {}, 'end_time': '2022-05-30T07:00:00+0000'},\n",
       "     {'value': {}, 'end_time': '2022-05-31T07:00:00+0000'},\n",
       "     {'value': {}, 'end_time': '2022-06-01T07:00:00+0000'},\n",
       "     {'value': {}, 'end_time': '2022-06-02T07:00:00+0000'},\n",
       "     {'value': {}, 'end_time': '2022-06-03T07:00:00+0000'},\n",
       "     {'value': {}, 'end_time': '2022-06-04T07:00:00+0000'},\n",
       "     {'value': {}, 'end_time': '2022-06-05T07:00:00+0000'},\n",
       "     {'value': {}, 'end_time': '2022-06-06T07:00:00+0000'},\n",
       "     {'value': {}, 'end_time': '2022-06-07T07:00:00+0000'},\n",
       "     {'value': {}, 'end_time': '2022-06-08T07:00:00+0000'},\n",
       "     {'value': {}, 'end_time': '2022-06-09T07:00:00+0000'},\n",
       "     {'value': {}, 'end_time': '2022-06-10T07:00:00+0000'},\n",
       "     {'value': {}, 'end_time': '2022-06-11T07:00:00+0000'},\n",
       "     {'value': {}, 'end_time': '2022-06-12T07:00:00+0000'},\n",
       "     {'value': {}, 'end_time': '2022-06-13T07:00:00+0000'},\n",
       "     {'value': {}, 'end_time': '2022-06-14T07:00:00+0000'},\n",
       "     {'value': {}, 'end_time': '2022-06-15T07:00:00+0000'},\n",
       "     {'value': {}, 'end_time': '2022-06-16T07:00:00+0000'},\n",
       "     {'value': {}, 'end_time': '2022-06-17T07:00:00+0000'},\n",
       "     {'value': {}, 'end_time': '2022-06-18T07:00:00+0000'},\n",
       "     {'value': {}, 'end_time': '2022-06-19T07:00:00+0000'},\n",
       "     {'value': {}, 'end_time': '2022-06-20T07:00:00+0000'},\n",
       "     {'value': {}, 'end_time': '2022-06-21T07:00:00+0000'},\n",
       "     {'value': {}, 'end_time': '2022-06-22T07:00:00+0000'},\n",
       "     {'value': {}, 'end_time': '2022-06-23T07:00:00+0000'},\n",
       "     {'value': {}, 'end_time': '2022-06-24T07:00:00+0000'},\n",
       "     {'value': {}, 'end_time': '2022-06-25T07:00:00+0000'},\n",
       "     {'value': {}, 'end_time': '2022-06-26T07:00:00+0000'},\n",
       "     {'value': {}, 'end_time': '2022-06-27T07:00:00+0000'},\n",
       "     {'value': {}, 'end_time': '2022-06-28T07:00:00+0000'},\n",
       "     {'value': {}, 'end_time': '2022-06-29T07:00:00+0000'},\n",
       "     {'value': {}, 'end_time': '2022-06-30T07:00:00+0000'},\n",
       "     {'value': {}, 'end_time': '2022-07-01T07:00:00+0000'}],\n",
       "    'title': None,\n",
       "    'description': 'The daily total post reactions of a Page by type.',\n",
       "    'id': '1778822842176383/insights/page_actions_post_reactions_total/days_28'}],\n",
       "  'paging': {'previous': 'https://graph.facebook.com/v22.0/1778822842176383/insights?since=1646121600&until=1651388400&metric=page_actions_post_reactions_total',\n",
       "   'next': 'https://graph.facebook.com/v22.0/1778822842176383/insights?since=1656658800&until=1661929200&metric=page_actions_post_reactions_total'}}]"
      ]
     },
     "execution_count": 24,
     "metadata": {},
     "output_type": "execute_result"
    }
   ],
   "source": [
    "total_reaction"
   ]
  },
  {
   "cell_type": "code",
   "execution_count": null,
   "id": "88898755",
   "metadata": {},
   "outputs": [],
   "source": []
  },
  {
   "cell_type": "code",
   "execution_count": 19,
   "id": "82043932",
   "metadata": {},
   "outputs": [
    {
     "data": {
      "text/plain": [
       "[]"
      ]
     },
     "execution_count": 19,
     "metadata": {},
     "output_type": "execute_result"
    }
   ],
   "source": [
    "total_reaction[11:]"
   ]
  },
  {
   "cell_type": "code",
   "execution_count": null,
   "id": "3a90213b",
   "metadata": {},
   "outputs": [],
   "source": []
  }
 ],
 "metadata": {
  "kernelspec": {
   "display_name": "normds",
   "language": "python",
   "name": "normds"
  },
  "language_info": {
   "codemirror_mode": {
    "name": "ipython",
    "version": 3
   },
   "file_extension": ".py",
   "mimetype": "text/x-python",
   "name": "python",
   "nbconvert_exporter": "python",
   "pygments_lexer": "ipython3",
   "version": "3.12.2"
  }
 },
 "nbformat": 4,
 "nbformat_minor": 5
}
