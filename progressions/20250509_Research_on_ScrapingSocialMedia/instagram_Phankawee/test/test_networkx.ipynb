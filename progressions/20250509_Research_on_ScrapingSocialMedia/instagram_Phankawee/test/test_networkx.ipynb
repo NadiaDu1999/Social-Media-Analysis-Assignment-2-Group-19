{
 "cells": [
  {
   "cell_type": "code",
   "execution_count": 1,
   "id": "e588096b",
   "metadata": {},
   "outputs": [],
   "source": [
    "import networkx as nx\n",
    "import matplotlib.pyplot as plt"
   ]
  },
  {
   "cell_type": "code",
   "execution_count": 2,
   "id": "87919258",
   "metadata": {},
   "outputs": [],
   "source": [
    "# Unidirectd graph\n",
    "G = nx.Graph()\n",
    "\n",
    "# Directed graph\n",
    "D = nx.DiGraph()"
   ]
  },
  {
   "cell_type": "markdown",
   "id": "1c85ee89",
   "metadata": {},
   "source": [
    "#### Adding Nodes & Edges"
   ]
  },
  {
   "cell_type": "code",
   "execution_count": 8,
   "id": "ce59ef98",
   "metadata": {},
   "outputs": [],
   "source": [
    "# Add single nodes\n",
    "G.add_node(\"A\")\n",
    "G.add_nodes_from([\"B\", \"C\", \"D\"])\n",
    "\n",
    "# Add edges (automatically adds nodes if missing)\n",
    "G.add_edge(\"A\", \"B\")\n",
    "G.add_edges_from([(\"A\", \"C\"), (\"B\", \"C\"), (\"C\", \"D\")])"
   ]
  },
  {
   "cell_type": "code",
   "execution_count": 11,
   "id": "e91ec466",
   "metadata": {},
   "outputs": [],
   "source": [
    "# Attach attributes\n",
    "G.add_node(\"E\", role=\"server\", color=\"red\")\n",
    "G.add_edge(\"A\", \"E\", weight=4.2, relation=\"friend\")"
   ]
  },
  {
   "cell_type": "code",
   "execution_count": 14,
   "id": "8adc7b7d",
   "metadata": {},
   "outputs": [
    {
     "name": "stdout",
     "output_type": "stream",
     "text": [
      "Nodes: ['A', 'B', 'C', 'D', 'E']\n",
      "Edges: [('A', 'B'), ('A', 'C'), ('A', 'E'), ('B', 'C'), ('C', 'D')]\n"
     ]
    }
   ],
   "source": [
    "print(\"Nodes:\", G.nodes())\n",
    "print(\"Edges:\", G.edges())"
   ]
  },
  {
   "cell_type": "markdown",
   "id": "b419061b",
   "metadata": {},
   "source": [
    "#### Basic Graph Operations"
   ]
  },
  {
   "cell_type": "code",
   "execution_count": 16,
   "id": "d1212808",
   "metadata": {},
   "outputs": [
    {
     "name": "stdout",
     "output_type": "stream",
     "text": [
      "Number of nodes: 5\n",
      "Number of edges: 5\n",
      "List of nodes: [('A', {}), ('B', {}), ('C', {}), ('D', {}), ('E', {'role': 'server', 'color': 'red'})]\n",
      "List of edges: [('A', 'B', {}), ('A', 'C', {}), ('A', 'E', {'weight': 4.2, 'relation': 'friend'}), ('B', 'C', {}), ('C', 'D', {})]\n"
     ]
    },
    {
     "data": {
      "text/plain": [
       "True"
      ]
     },
     "execution_count": 16,
     "metadata": {},
     "output_type": "execute_result"
    }
   ],
   "source": [
    "# Number of nodes and edges\n",
    "print(\"Number of nodes:\", G.number_of_nodes())\n",
    "print(\"Number of edges:\", G.number_of_edges())\n",
    "\n",
    "# Lists of nodes and edges\n",
    "print(\"List of nodes:\", list(G.nodes(data=True)))\n",
    "print(\"List of edges:\", list(G.edges(data=True)))\n",
    "\n",
    "# Check existence\n",
    "\"A\" in G  # True\n",
    "G.has_edge(\"A\", \"B\")  # True"
   ]
  },
  {
   "cell_type": "markdown",
   "id": "8b53ed93",
   "metadata": {},
   "source": [
    "### Graph Metrics\n",
    "NetworkX includes many built-in measures. Here are some of the most common:"
   ]
  },
  {
   "cell_type": "markdown",
   "id": "59b04d3a",
   "metadata": {},
   "source": [
    "#### Degree & Degree Centrality"
   ]
  },
  {
   "cell_type": "code",
   "execution_count": null,
   "id": "f463e3a7",
   "metadata": {},
   "outputs": [
    {
     "name": "stdout",
     "output_type": "stream",
     "text": [
      "{'A': 3, 'B': 2, 'C': 3, 'D': 1, 'E': 1}\n",
      "{'A': 0.75, 'B': 0.5, 'C': 0.75, 'D': 0.25, 'E': 0.25}\n"
     ]
    }
   ],
   "source": [
    "# Degree of each node\n",
    "print(dict(G.degree()))\n",
    "\n",
    "# Degree centrality (normalized degree)\n",
    "print(nx.degree_centrality(G))\n",
    "# Degree centrality is calculated as the number of edges connected to a node divided by the maximum possible number of edges (n-1).\n",
    "# Eg. A has 3 edges and the maximum possible is 4 (A, B, C, D) => 3/4 = 0.75."
   ]
  },
  {
   "cell_type": "markdown",
   "id": "e9e6ca7a",
   "metadata": {},
   "source": [
    "#### Shortest Paths"
   ]
  },
  {
   "cell_type": "code",
   "execution_count": null,
   "id": "8c351f64",
   "metadata": {},
   "outputs": [
    {
     "name": "stdout",
     "output_type": "stream",
     "text": [
      "{'A': 0, 'B': 1, 'C': 1, 'E': 1, 'D': 2}\n",
      "['A', 'C', 'D']\n"
     ]
    }
   ],
   "source": [
    "# Single-source shortest path length\n",
    "print(nx.single_source_shortest_path_length(G, \"A\"))\n",
    "\n",
    "# Shortest path between two nodes\n",
    "print(nx.shortest_path(G, \"A\", \"D\")) # ['A', 'C', 'D']"
   ]
  },
  {
   "cell_type": "markdown",
   "id": "8d6858bd",
   "metadata": {},
   "source": [
    "#### Clustering Coefficient"
   ]
  },
  {
   "cell_type": "code",
   "execution_count": null,
   "id": "5762f90d",
   "metadata": {},
   "outputs": [
    {
     "name": "stdout",
     "output_type": "stream",
     "text": [
      "{'A': 0.3333333333333333, 'B': 1.0, 'C': 0.3333333333333333, 'D': 0, 'E': 0}\n",
      "0.42857142857142855\n"
     ]
    }
   ],
   "source": [
    "# Local clustering coefficient (triangle ratio) per node\n",
    "print(nx.clustering(G))\n",
    "# Local clustering coefficient is the number of edges between the neighbors of a node divided by the number of possible edges between those neighbors. It describes how well connected the neighbors of a node are.\n",
    "\n",
    "# Global clustering coefficient\n",
    "print(nx.transitivity(G))\n",
    "# Global clustering coefficient is the ratio of the number of triangles in the graph to the number of connected triples of nodes. It describes how well connected the entire graph is."
   ]
  },
  {
   "cell_type": "markdown",
   "id": "6f03499b",
   "metadata": {},
   "source": [
    "#### Centrality Measures"
   ]
  },
  {
   "cell_type": "code",
   "execution_count": 22,
   "id": "1a9758bd",
   "metadata": {},
   "outputs": [
    {
     "name": "stdout",
     "output_type": "stream",
     "text": [
      "{'A': 0.5, 'B': 0.0, 'C': 0.5, 'D': 0.0, 'E': 0.0}\n",
      "{'A': 0.8, 'B': 0.6666666666666666, 'C': 0.8, 'D': 0.5, 'E': 0.5}\n",
      "{'A': 0.5650995704550302, 'B': 0.4907983260941701, 'C': 0.5650995704550302, 'D': 0.2453996271861893, 'E': 0.2453996271861893}\n"
     ]
    }
   ],
   "source": [
    "# Betweenness centrality\n",
    "print(nx.betweenness_centrality(G))\n",
    "# Betweenness centrality is a measure of the number of times a node acts as a bridge along the shortest path between two other nodes. It is calculated as the sum of the fraction of all-pairs shortest paths that pass through the node.\n",
    "# It is a measure of the influence a node has over the flow of information in the network.\n",
    "# It is calculated as the sum of the fraction of all-pairs shortest paths that pass through the node.\n",
    "\n",
    "# Closeness centrality\n",
    "print(nx.closeness_centrality(G))\n",
    "# Closeness centrality is a measure of how close a node is to all other nodes in the network. It is calculated as the reciprocal of the average shortest path length from the node to all other nodes in the network.\n",
    "# It is a measure of the ability of a node to access other nodes in the network.\n",
    "# It is calculated as the reciprocal of the average shortest path length from the node to all other nodes in the network.\n",
    "\n",
    "# Eigenvector centrality\n",
    "print(nx.eigenvector_centrality(G, max_iter=1000))\n",
    "# Eigenvector centrality is a measure of the influence of a node in a network. It is calculated as the principal eigenvector of the adjacency matrix of the graph.\n",
    "# It is a measure of the influence of a node in a network. It is calculated as the principal eigenvector of the adjacency matrix of the graph.\n",
    "# It is a measure of the influence of a node in a network. It is calculated as the principal eigenvector of the adjacency matrix of the graph."
   ]
  },
  {
   "cell_type": "markdown",
   "id": "a7ae822d",
   "metadata": {},
   "source": [
    "### 5. Community Detection\n",
    "Simple example using the Girvan-Newman method:\n"
   ]
  },
  {
   "cell_type": "code",
   "execution_count": null,
   "id": "8a678f01",
   "metadata": {},
   "outputs": [
    {
     "name": "stdout",
     "output_type": "stream",
     "text": [
      "[['E', 'A'], ['C', 'B', 'D']]\n"
     ]
    }
   ],
   "source": [
    "from networkx.algorithms.community import girvan_newman\n",
    "\n",
    "communities = girvan_newman(G)\n",
    "# Take the first level of splits:\n",
    "first_split = next(communities)\n",
    "print([list(c) for c in first_split])\n",
    "\n",
    "# Girvan-Newman algorithm\n",
    "# The Girvan-Newman algorithm is a method for detecting communities in a graph. It works by iteratively removing edges from the graph that are \"bridges\" between communities, until the graph is split into separate components.\n",
    "# The algorithm is based on the idea that edges that are \"bridges\" between communities are more likely to be removed than edges that are within communities.\n"
   ]
  },
  {
   "cell_type": "markdown",
   "id": "82bbce23",
   "metadata": {},
   "source": [
    "### 6. Visualization\n",
    "Basic drawing with Matplotlib:"
   ]
  },
  {
   "cell_type": "code",
   "execution_count": 25,
   "id": "125e01cc",
   "metadata": {},
   "outputs": [
    {
     "data": {
      "image/png": "[encoded data removed]",
      "text/plain": [
       "<Figure size 640x480 with 1 Axes>"
      ]
     },
     "metadata": {},
     "output_type": "display_data"
    }
   ],
   "source": [
    "# pos = nx.spring_layout(G)  # force-directed layout\n",
    "pos = nx.circular_layout(G)  # circular layout\n",
    "nx.draw(G, pos, with_labels=True, node_size=700, font_size=10)\n",
    "edge_labels = nx.get_edge_attributes(G, 'weight')\n",
    "nx.draw_networkx_edge_labels(G, pos, edge_labels=edge_labels)\n",
    "plt.show()"
   ]
  },
  {
   "cell_type": "markdown",
   "id": "82141c7c",
   "metadata": {},
   "source": [
    "You can color or size nodes by a metric:"
   ]
  },
  {
   "cell_type": "code",
   "execution_count": 31,
   "id": "15410476",
   "metadata": {},
   "outputs": [
    {
     "data": {
      "image/png": "[encoded data removed]",
      "text/plain": [
       "<Figure size 640x480 with 1 Axes>"
      ]
     },
     "metadata": {},
     "output_type": "display_data"
    }
   ],
   "source": [
    "deg_centrality = nx.degree_centrality(G)\n",
    "node_colors = [deg_centrality[n] for n in G]\n",
    "nx.draw(G, pos,\n",
    "        node_color=node_colors,\n",
    "        cmap=plt.cm.Reds,\n",
    "        with_labels=True)\n",
    "plt.show()"
   ]
  },
  {
   "cell_type": "markdown",
   "id": "24889c4f",
   "metadata": {},
   "source": [
    "### 7. Reading & Writing Graphs\n",
    "NetworkX can import/export many formats:"
   ]
  },
  {
   "cell_type": "code",
   "execution_count": null,
   "id": "7069a9b5",
   "metadata": {},
   "outputs": [
    {
     "ename": "FileNotFoundError",
     "evalue": "[Errno 2] No such file or directory: 'edgelist.txt'",
     "output_type": "error",
     "traceback": [
      "\u001b[0;31m---------------------------------------------------------------------------\u001b[0m",
      "\u001b[0;31mFileNotFoundError\u001b[0m                         Traceback (most recent call last)",
      "Cell \u001b[0;32mIn[37], line 2\u001b[0m\n\u001b[1;32m      1\u001b[0m \u001b[38;5;66;03m# From an edge list file\u001b[39;00m\n\u001b[0;32m----> 2\u001b[0m G \u001b[38;5;241m=\u001b[39m nx\u001b[38;5;241m.\u001b[39mread_edgelist(\u001b[38;5;124m\"\u001b[39m\u001b[38;5;124medgelist.txt\u001b[39m\u001b[38;5;124m\"\u001b[39m, nodetype\u001b[38;5;241m=\u001b[39m\u001b[38;5;28mstr\u001b[39m)\n\u001b[1;32m      4\u001b[0m \u001b[38;5;66;03m# From GraphML (XML)\u001b[39;00m\n\u001b[1;32m      5\u001b[0m G \u001b[38;5;241m=\u001b[39m nx\u001b[38;5;241m.\u001b[39m read_graphml(\u001b[38;5;124m\"\u001b[39m\u001b[38;5;124mnetwork.graphml\u001b[39m\u001b[38;5;124m\"\u001b[39m)\n",
      "File \u001b[0;32m<class 'networkx.utils.decorators.argmap'> compilation 79:3\u001b[0m, in \u001b[0;36margmap_read_edgelist_74\u001b[0;34m(path, comments, delimiter, create_using, nodetype, data, edgetype, encoding, backend, **backend_kwargs)\u001b[0m\n\u001b[1;32m      1\u001b[0m \u001b[38;5;28;01mimport\u001b[39;00m \u001b[38;5;21;01mbz2\u001b[39;00m\n\u001b[1;32m      2\u001b[0m \u001b[38;5;28;01mimport\u001b[39;00m \u001b[38;5;21;01mcollections\u001b[39;00m\n\u001b[0;32m----> 3\u001b[0m \u001b[38;5;28;01mimport\u001b[39;00m \u001b[38;5;21;01mgzip\u001b[39;00m\n\u001b[1;32m      4\u001b[0m \u001b[38;5;28;01mimport\u001b[39;00m \u001b[38;5;21;01minspect\u001b[39;00m\n\u001b[1;32m      5\u001b[0m \u001b[38;5;28;01mimport\u001b[39;00m \u001b[38;5;21;01mitertools\u001b[39;00m\n",
      "File \u001b[0;32m/opt/anaconda3/envs/normds/lib/python3.12/site-packages/networkx/utils/decorators.py:198\u001b[0m, in \u001b[0;36mopen_file.<locals>._open_file\u001b[0;34m(path)\u001b[0m\n\u001b[1;32m    194\u001b[0m \u001b[38;5;28;01melse\u001b[39;00m:\n\u001b[1;32m    195\u001b[0m     \u001b[38;5;66;03m# could be None, or a file handle, in which case the algorithm will deal with it\u001b[39;00m\n\u001b[1;32m    196\u001b[0m     \u001b[38;5;28;01mreturn\u001b[39;00m path, \u001b[38;5;28;01mlambda\u001b[39;00m: \u001b[38;5;28;01mNone\u001b[39;00m\n\u001b[0;32m--> 198\u001b[0m fobj \u001b[38;5;241m=\u001b[39m _dispatch_dict[ext](path, mode\u001b[38;5;241m=\u001b[39mmode)\n\u001b[1;32m    199\u001b[0m \u001b[38;5;28;01mreturn\u001b[39;00m fobj, \u001b[38;5;28;01mlambda\u001b[39;00m: fobj\u001b[38;5;241m.\u001b[39mclose()\n",
      "\u001b[0;31mFileNotFoundError\u001b[0m: [Errno 2] No such file or directory: 'edgelist.txt'"
     ]
    }
   ],
   "source": [
    "# From an edge list file\n",
    "G = nx.read_edgelist(\"path/to/edgelist.txt\", nodetype=str)\n",
    "\n",
    "# From GraphML (XML)\n",
    "G = nx. read_graphml(\"path/to/network.graphml\")\n",
    "\n",
    "# To GEXF (for Gephi)\n",
    "nx.write_gexf(G, \"output_network.gexf\")\n"
   ]
  },
  {
   "cell_type": "markdown",
   "id": "5acd325d",
   "metadata": {},
   "source": [
    "#### Worked Example: Analyzing a Small Social Network"
   ]
  },
  {
   "cell_type": "code",
   "execution_count": 39,
   "id": "b636bcfc",
   "metadata": {},
   "outputs": [
    {
     "name": "stdout",
     "output_type": "stream",
     "text": [
      "Degree centrality: {'Alice': 0.4, 'Bob': 0.4, 'Claire': 0.4, 'Dennis': 0.6000000000000001, 'Elle': 0.4, 'Frank': 0.2}\n",
      "Betweenness centrality: {'Alice': 0.05, 'Bob': 0.15000000000000002, 'Claire': 0.15000000000000002, 'Dennis': 0.65, 'Elle': 0.4, 'Frank': 0.0}\n"
     ]
    },
    {
     "data": {
      "image/png": "[encoded data removed]",
      "text/plain": [
       "<Figure size 640x480 with 1 Axes>"
      ]
     },
     "metadata": {},
     "output_type": "display_data"
    }
   ],
   "source": [
    "import networkx as nx\n",
    "import matplotlib.pyplot as plt\n",
    "\n",
    "# 1. Create the graph\n",
    "G = nx.Graph()\n",
    "edges = [\n",
    "    (\"Alice\", \"Bob\"), (\"Alice\", \"Claire\"),\n",
    "    (\"Bob\", \"Dennis\"), (\"Claire\", \"Dennis\"),\n",
    "    (\"Dennis\", \"Elle\"), (\"Elle\", \"Frank\"),\n",
    "]\n",
    "G.add_edges_from(edges)\n",
    "\n",
    "# 2. Compute metrics\n",
    "print(\"Degree centrality:\", nx.degree_centrality(G))\n",
    "print(\"Betweenness centrality:\", nx.betweenness_centrality(G))\n",
    "\n",
    "# 3. Visualize\n",
    "pos = nx.kamada_kawai_layout(G)\n",
    "nx.draw(G, pos, with_labels=True, node_size=700)\n",
    "plt.show()\n"
   ]
  },
  {
   "cell_type": "markdown",
   "id": "11b7bd69",
   "metadata": {},
   "source": [
    "## 9. Tips & Best Practices\n",
    "\n",
    "* **Choose the right graph type**: directed vs. undirected vs. multigraph.\n",
    "* **Attribute storage**: use node/edge attributes to carry extra data.\n",
    "* **Performance**: for very large graphs (hundreds of thousands of nodes), consider graph databases or libraries like igraph/PyGraphistry.\n",
    "* **Layout**: experiment with different layouts (`spring_layout`, `circular_layout`, `kamada_kawai_layout`) for clearer visuals.\n",
    "* **Extendability**: NetworkX integrates with SciPy and NumPy for advanced algorithms.\n",
    "\n",
    "---\n",
    "\n",
    "### Next Steps\n",
    "\n",
    "* Explore the full set of algorithms under `networkx.algorithms` (flows, matching, spectral analysis, etc.).\n",
    "* Practice on real datasets: e.g., social networks, citation graphs, transportation networks.\n",
    "* Combine with data tools like Pandas to filter and prepare your node/edge data before analysis.\n",
    "\n",
    "With these basics, you’re ready to start modeling and analyzing networks in Python. Happy graphing!\n"
   ]
  },
  {
   "cell_type": "code",
   "execution_count": null,
   "id": "4944d26a",
   "metadata": {},
   "outputs": [],
   "source": []
  }
 ],
 "metadata": {
  "kernelspec": {
   "display_name": "normds",
   "language": "python",
   "name": "normds"
  },
  "language_info": {
   "codemirror_mode": {
    "name": "ipython",
    "version": 3
   },
   "file_extension": ".py",
   "mimetype": "text/x-python",
   "name": "python",
   "nbconvert_exporter": "python",
   "pygments_lexer": "ipython3",
   "version": "3.12.2"
  }
 },
 "nbformat": 4,
 "nbformat_minor": 5
}
