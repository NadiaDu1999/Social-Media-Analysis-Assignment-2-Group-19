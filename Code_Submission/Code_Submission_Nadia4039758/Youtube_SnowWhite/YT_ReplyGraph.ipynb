{
 "cells": [
  {
   "cell_type": "code",
   "execution_count": 3,
   "id": "9e9384e9-018e-45ba-b89a-ca866bf781e4",
   "metadata": {},
   "outputs": [],
   "source": [
    "import os\n",
    "import json\n",
    "import matplotlib.pyplot as plt\n",
    "import networkx as nx\n",
    "\n",
    "with open('Youtube_combined_Final.json', 'r', encoding='utf-8') as f:\n",
    "    data = json.load(f)\n",
    "\n",
    "submissions = data"
   ]
  },
  {
   "cell_type": "code",
   "execution_count": 5,
   "id": "158c133d-a7ad-442c-817f-646dc4802795",
   "metadata": {},
   "outputs": [],
   "source": [
    "import networkx as nx\n",
    "replyGraph = nx.DiGraph()\n",
    "dSubCommentId = dict()"
   ]
  },
  {
   "cell_type": "code",
   "execution_count": 7,
   "id": "2a92836a-a839-4f1b-aa2d-2b38d154e2b0",
   "metadata": {},
   "outputs": [
    {
     "name": "stdout",
     "output_type": "stream",
     "text": [
      "Graph saved as 'youtube_reply_graph.graphml'\n"
     ]
    }
   ],
   "source": [
    "import json\n",
    "import networkx as nx\n",
    "\n",
    "# Load JSON\n",
    "with open('Youtube_combined_Final.json', 'r', encoding='utf-8') as f:\n",
    "    submissions = json.load(f)\n",
    "\n",
    "replyGraph = nx.DiGraph()\n",
    "dSubCommentId = {}\n",
    "\n",
    "for vid in submissions:\n",
    "    comments = vid.get('Comments', [])\n",
    "    \n",
    "    for comment in comments:\n",
    "        author = comment.get('author')\n",
    "        if author and author != '':\n",
    "            if author in replyGraph:\n",
    "                replyGraph.nodes[author]['subNum'] = replyGraph.nodes[author].get('subNum', 0) + 1\n",
    "            else:\n",
    "                replyGraph.add_node(author, subNum=1)\n",
    "\n",
    "        # Map comment ID to author\n",
    "        comment_id = comment.get('id')\n",
    "        if comment_id and author:\n",
    "            dSubCommentId[comment_id] = author\n",
    "\n",
    "    # Now process replies\n",
    "    for comment in comments:\n",
    "        parent_author = comment.get('author')\n",
    "        replies = comment.get('replies', [])\n",
    "        for reply in replies:\n",
    "            reply_author = reply.get('author')\n",
    "            if reply_author and parent_author and reply_author != parent_author:\n",
    "                # Ensure both nodes exist\n",
    "                if reply_author not in replyGraph:\n",
    "                    replyGraph.add_node(reply_author, subNum=0)\n",
    "                if parent_author not in replyGraph:\n",
    "                    replyGraph.add_node(parent_author, subNum=0)\n",
    "\n",
    "                # Add or update edge\n",
    "                if replyGraph.has_edge(reply_author, parent_author):\n",
    "                    replyGraph[reply_author][parent_author]['replyNum'] += 1\n",
    "                else:\n",
    "                    replyGraph.add_edge(reply_author, parent_author, replyNum=1)\n",
    "\n",
    "# Save the graph\n",
    "nx.write_graphml(replyGraph, \"youtube_reply_graph.graphml\")\n",
    "print(\"Graph saved as 'youtube_reply_graph.graphml'\")\n"
   ]
  },
  {
   "cell_type": "code",
   "execution_count": null,
   "id": "eaf5f622-7132-4b39-a7fc-170997fcce00",
   "metadata": {},
   "outputs": [],
   "source": [
    "import matplotlib.pyplot as plt\n",
    "import networkx as nx\n",
    "\n",
    "# Assuming 'graph' is your built DiGraph from before\n",
    "\n",
    "plt.figure(figsize=(12, 12))\n",
    "\n",
    "# Use a layout for better visualization\n",
    "pos = nx.spring_layout(graph, k=0.15, iterations=20)\n",
    "\n",
    "# Draw nodes sized by number of submissions (subNum)\n",
    "node_sizes = [500 + 500*graph.nodes[n]['subNum'] for n in graph.nodes]\n",
    "\n",
    "# Draw the graph\n",
    "nx.draw_networkx_nodes(graph, pos, node_size=node_sizes, node_color='skyblue', alpha=0.7)\n",
    "nx.draw_networkx_edges(graph, pos, arrowstyle='-|>', arrowsize=15, edge_color='gray')\n",
    "\n",
    "# Draw node labels (authors)\n",
    "nx.draw_networkx_labels(graph, pos, font_size=8)\n",
    "\n",
    "plt.title(\"YouTube Comment Reply Graph\")\n",
    "plt.axis('off')\n",
    "plt.show()\n"
   ]
  },
  {
   "cell_type": "markdown",
   "id": "b0fe4007-5bae-44e1-9ee3-70a1e3d461d0",
   "metadata": {},
   "source": [
    "# Community Dectection"
   ]
  },
  {
   "cell_type": "code",
   "execution_count": 9,
   "id": "96abf700-a27d-4e3d-ad83-6f247090cbe1",
   "metadata": {},
   "outputs": [],
   "source": [
    "sFilename = 'youtube_reply_graph.graphml'\n",
    "replyGraph = nx.readwrite.read_graphml(sFilename)"
   ]
  },
  {
   "cell_type": "code",
   "execution_count": 11,
   "id": "d4778ce2-71b3-4307-813d-e9fa15ca2916",
   "metadata": {},
   "outputs": [
    {
     "name": "stdout",
     "output_type": "stream",
     "text": [
      "Louvain detected 53632 communities.\n"
     ]
    }
   ],
   "source": [
    "import community.community_louvain as community_louvain\n",
    "\n",
    "G_undirected = nx.to_undirected(replyGraph)\n",
    "partition = community_louvain.best_partition(G_undirected)\n",
    "\n",
    "# Convert to community sets\n",
    "def dictToSetFormat(comm_dict):\n",
    "    comm_map = {}\n",
    "    for node, group in comm_dict.items():\n",
    "        comm_map.setdefault(group, set()).add(node)\n",
    "    return list(comm_map.values())\n",
    "\n",
    "communities = dictToSetFormat(partition)\n",
    "print(f\"Louvain detected {len(communities)} communities.\")\n"
   ]
  },
  {
   "cell_type": "code",
   "execution_count": null,
   "id": "077ccbc0-1886-4d64-8181-11f49d0edde6",
   "metadata": {},
   "outputs": [],
   "source": [
    "nx.draw(G_undirected, with_labels = True)\n",
    "\n",
    "len(G_undirected.nodes), len(G_undirected.edges)"
   ]
  }
 ],
 "metadata": {
  "kernelspec": {
   "display_name": "Python 3 (ipykernel)",
   "language": "python",
   "name": "python3"
  },
  "language_info": {
   "codemirror_mode": {
    "name": "ipython",
    "version": 3
   },
   "file_extension": ".py",
   "mimetype": "text/x-python",
   "name": "python",
   "nbconvert_exporter": "python",
   "pygments_lexer": "ipython3",
   "version": "3.12.2"
  }
 },
 "nbformat": 4,
 "nbformat_minor": 5
}
